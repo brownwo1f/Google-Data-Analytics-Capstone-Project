{
 "cells": [
  {
   "cell_type": "code",
   "execution_count": 1,
   "id": "15175f19-6014-48d6-8577-a9a9da1ff125",
   "metadata": {},
   "outputs": [],
   "source": [
    "import pandas as pd\n",
    "import glob\n",
    "\n",
    "# Get all CSV files in the directory\n",
    "all_files = glob.glob(\"D:/Deep/DA/Google Cert Case Study/*.csv\")\n",
    "\n",
    "# Load and concatenate all CSV files\n",
    "df_list = [pd.read_csv(file) for file in all_files]\n",
    "df = pd.concat(df_list, ignore_index=True)\n"
   ]
  },
  {
   "cell_type": "code",
   "execution_count": 3,
   "id": "a6dc9ebc",
   "metadata": {},
   "outputs": [],
   "source": [
    "#Removing completely empty rows \n",
    "df = df.dropna(how='all')"
   ]
  },
  {
   "cell_type": "code",
   "execution_count": null,
   "id": "a7e56837",
   "metadata": {},
   "outputs": [],
   "source": [
    "#Removing duplicate rows \n",
    "df = df.drop_duplicates()\n",
    "print(\"DataFrame after removing duplicates:\")\n",
    "print(df)"
   ]
  },
  {
   "cell_type": "code",
   "execution_count": null,
   "id": "f46adadf",
   "metadata": {},
   "outputs": [],
   "source": [
    "# Checking how many rows have invalid ride_id \n",
    "invalidID = df[df['ride_id'].str.len() != 16]\n",
    "print(len(invalidID))"
   ]
  },
  {
   "cell_type": "code",
   "execution_count": 6,
   "id": "491e3859",
   "metadata": {},
   "outputs": [],
   "source": [
    "# deleting rows having invalid ride_id \n",
    "df= df[df['ride_id'].str.len() == 16]"
   ]
  },
  {
   "cell_type": "code",
   "execution_count": 11,
   "id": "ffb0f32c",
   "metadata": {},
   "outputs": [],
   "source": [
    "#formating datetime columns \n",
    "df['started_at'] = pd.to_datetime(df['started_at'], format='%m/%d/%y %H:%M')\n",
    "df['ended_at'] = pd.to_datetime(df['ended_at'], format='%m/%d/%y %H:%M')"
   ]
  },
  {
   "cell_type": "code",
   "execution_count": 35,
   "id": "f73e9738",
   "metadata": {},
   "outputs": [],
   "source": [
    "# creating new column ride_length\n",
    "df['ride_length'] = (df['ended_at'] - df['started_at']).dt.total_seconds()"
   ]
  },
  {
   "cell_type": "code",
   "execution_count": null,
   "id": "20324ac0",
   "metadata": {},
   "outputs": [],
   "source": [
    "#removing all the rides with negative or 0 seconds length\n",
    "df = df[df['ride_length'] > 0]\n",
    "print(df)"
   ]
  },
  {
   "cell_type": "code",
   "execution_count": 43,
   "id": "63433c66",
   "metadata": {},
   "outputs": [],
   "source": [
    "# extracting week day number and name from start_at column\n",
    "df['weekday_number'] = df['started_at'].dt.dayofweek  # Monday=0, Sunday=6\n",
    "df['weekday_name'] = df['started_at'].dt.day_name()"
   ]
  },
  {
   "cell_type": "code",
   "execution_count": null,
   "id": "a2487adc",
   "metadata": {},
   "outputs": [],
   "source": [
    "import numpy as np\n",
    "\n",
    "def haversine(lon1, lat1, lon2, lat2):\n",
    "    lon1, lat1, lon2, lat2 = map(np.radians, [lon1, lat1, lon2, lat2])\n",
    "    dlon = lon2 - lon1\n",
    "    dlat = lat2 - lat1\n",
    "    a = np.sin(dlat/2)**2 + np.cos(lat1) * np.cos(lat2) * np.sin(dlon/2)**2\n",
    "    c = 2 * np.arcsin(np.sqrt(a))\n",
    "    r = 6371  # Radius of earth in kilometers\n",
    "    return c * r  # Return distance in kilometers\n",
    "\n",
    "# Apply the Haversine function to the DataFrame\n",
    "df['distance_travelled'] = df.apply(lambda row: haversine(row['start_lng'], row['start_lat'], row['end_lng'], row['end_lat']), axis=1)\n",
    "print(df) "
   ]
  },
  {
   "cell_type": "code",
   "execution_count": 2,
   "id": "ac75e8ef",
   "metadata": {},
   "outputs": [],
   "source": [
    "import pandas as pd\n",
    "import glob\n",
    "\n",
    "# Get all CSV files in the directory\n",
    "all_files = glob.glob(\"D:/Deep/DA/Google Cert Case Study/cleaned_cyclistic_data_reduced.csv\")\n",
    "\n",
    "# Load and concatenate all CSV files\n",
    "df_list = [pd.read_csv(file) for file in all_files]\n",
    "df = pd.concat(df_list, ignore_index=True)"
   ]
  },
  {
   "cell_type": "code",
   "execution_count": null,
   "id": "bb5dd7be",
   "metadata": {},
   "outputs": [],
   "source": [
    "blank_dist = df[df['distance_travelled'].isna()]\n",
    "print(blank_dist)"
   ]
  },
  {
   "cell_type": "code",
   "execution_count": 5,
   "id": "c83e1b50",
   "metadata": {},
   "outputs": [],
   "source": [
    "df = df.dropna(subset=['distance_travelled'])"
   ]
  },
  {
   "cell_type": "code",
   "execution_count": 9,
   "id": "969b7d76",
   "metadata": {},
   "outputs": [],
   "source": [
    "df.to_csv('cleaned_cyclistic_data.csv', index=False)"
   ]
  }
 ],
 "metadata": {
  "kernelspec": {
   "display_name": "Python 3 (ipykernel)",
   "language": "python",
   "name": "python3"
  },
  "language_info": {
   "codemirror_mode": {
    "name": "ipython",
    "version": 3
   },
   "file_extension": ".py",
   "mimetype": "text/x-python",
   "name": "python",
   "nbconvert_exporter": "python",
   "pygments_lexer": "ipython3",
   "version": "3.12.6"
  }
 },
 "nbformat": 4,
 "nbformat_minor": 5
}
